{
 "cells": [
  {
   "cell_type": "markdown",
   "metadata": {},
   "source": [
    "## Loops"
   ]
  },
  {
   "cell_type": "code",
   "execution_count": 3,
   "metadata": {},
   "outputs": [],
   "source": [
    "from pylab import * \n",
    "n = int(ceil((10-0)/0.1)+1)\n",
    "x = zeros((n,1), float)"
   ]
  },
  {
   "cell_type": "code",
   "execution_count": 12,
   "metadata": {},
   "outputs": [
    {
     "name": "stdout",
     "output_type": "stream",
     "text": [
      "101\n"
     ]
    }
   ],
   "source": [
    "print(n)"
   ]
  },
  {
   "cell_type": "code",
   "execution_count": 11,
   "metadata": {},
   "outputs": [
    {
     "name": "stdout",
     "output_type": "stream",
     "text": [
      "[0.1]\n"
     ]
    }
   ],
   "source": [
    "print(x[1])"
   ]
  },
  {
   "cell_type": "code",
   "execution_count": 8,
   "metadata": {},
   "outputs": [],
   "source": [
    "x[0] = 0 \n",
    "x[1] = 0.1\n",
    "x[2] = 0.2\n",
    "x[3] = 0.3\n",
    "x[4] = 0.4"
   ]
  },
  {
   "cell_type": "code",
   "execution_count": 10,
   "metadata": {},
   "outputs": [
    {
     "name": "stdout",
     "output_type": "stream",
     "text": [
      "[0.1]\n"
     ]
    }
   ],
   "source": [
    "print(x[1])"
   ]
  },
  {
   "cell_type": "markdown",
   "metadata": {},
   "source": [
    "### The for-loop"
   ]
  },
  {
   "cell_type": "code",
   "execution_count": 13,
   "metadata": {},
   "outputs": [],
   "source": [
    "n = int(ceil((10-0)/0.1)+1)\n",
    "for i in range(n):\n",
    "    x[i] = i * 0.1"
   ]
  },
  {
   "cell_type": "code",
   "execution_count": 14,
   "metadata": {},
   "outputs": [
    {
     "name": "stdout",
     "output_type": "stream",
     "text": [
      "[[ 0. ]\n",
      " [ 0.1]\n",
      " [ 0.2]\n",
      " [ 0.3]\n",
      " [ 0.4]\n",
      " [ 0.5]\n",
      " [ 0.6]\n",
      " [ 0.7]\n",
      " [ 0.8]\n",
      " [ 0.9]\n",
      " [ 1. ]\n",
      " [ 1.1]\n",
      " [ 1.2]\n",
      " [ 1.3]\n",
      " [ 1.4]\n",
      " [ 1.5]\n",
      " [ 1.6]\n",
      " [ 1.7]\n",
      " [ 1.8]\n",
      " [ 1.9]\n",
      " [ 2. ]\n",
      " [ 2.1]\n",
      " [ 2.2]\n",
      " [ 2.3]\n",
      " [ 2.4]\n",
      " [ 2.5]\n",
      " [ 2.6]\n",
      " [ 2.7]\n",
      " [ 2.8]\n",
      " [ 2.9]\n",
      " [ 3. ]\n",
      " [ 3.1]\n",
      " [ 3.2]\n",
      " [ 3.3]\n",
      " [ 3.4]\n",
      " [ 3.5]\n",
      " [ 3.6]\n",
      " [ 3.7]\n",
      " [ 3.8]\n",
      " [ 3.9]\n",
      " [ 4. ]\n",
      " [ 4.1]\n",
      " [ 4.2]\n",
      " [ 4.3]\n",
      " [ 4.4]\n",
      " [ 4.5]\n",
      " [ 4.6]\n",
      " [ 4.7]\n",
      " [ 4.8]\n",
      " [ 4.9]\n",
      " [ 5. ]\n",
      " [ 5.1]\n",
      " [ 5.2]\n",
      " [ 5.3]\n",
      " [ 5.4]\n",
      " [ 5.5]\n",
      " [ 5.6]\n",
      " [ 5.7]\n",
      " [ 5.8]\n",
      " [ 5.9]\n",
      " [ 6. ]\n",
      " [ 6.1]\n",
      " [ 6.2]\n",
      " [ 6.3]\n",
      " [ 6.4]\n",
      " [ 6.5]\n",
      " [ 6.6]\n",
      " [ 6.7]\n",
      " [ 6.8]\n",
      " [ 6.9]\n",
      " [ 7. ]\n",
      " [ 7.1]\n",
      " [ 7.2]\n",
      " [ 7.3]\n",
      " [ 7.4]\n",
      " [ 7.5]\n",
      " [ 7.6]\n",
      " [ 7.7]\n",
      " [ 7.8]\n",
      " [ 7.9]\n",
      " [ 8. ]\n",
      " [ 8.1]\n",
      " [ 8.2]\n",
      " [ 8.3]\n",
      " [ 8.4]\n",
      " [ 8.5]\n",
      " [ 8.6]\n",
      " [ 8.7]\n",
      " [ 8.8]\n",
      " [ 8.9]\n",
      " [ 9. ]\n",
      " [ 9.1]\n",
      " [ 9.2]\n",
      " [ 9.3]\n",
      " [ 9.4]\n",
      " [ 9.5]\n",
      " [ 9.6]\n",
      " [ 9.7]\n",
      " [ 9.8]\n",
      " [ 9.9]\n",
      " [10. ]]\n"
     ]
    }
   ],
   "source": [
    "print(x)"
   ]
  },
  {
   "cell_type": "code",
   "execution_count": 20,
   "metadata": {},
   "outputs": [
    {
     "ename": "SyntaxError",
     "evalue": "cannot assign to literal (<ipython-input-20-a24ad35f5680>, line 2)",
     "output_type": "error",
     "traceback": [
      "\u001b[0;36m  File \u001b[0;32m\"<ipython-input-20-a24ad35f5680>\"\u001b[0;36m, line \u001b[0;32m2\u001b[0m\n\u001b[0;31m    x0 = 0.0, x1 = 10, dx = 0.1\u001b[0m\n\u001b[0m         ^\u001b[0m\n\u001b[0;31mSyntaxError\u001b[0m\u001b[0;31m:\u001b[0m cannot assign to literal\n"
     ]
    }
   ],
   "source": [
    "from pylab import *\n",
    "x0 = 0.0, x1 = 10, dx = 0.1\n",
    "n = int(ceil((x1-x0)/dx)+1)\n",
    "x = zeros((n,1), float)\n",
    "y = zeros((n,1), float)\n",
    "for i in range(n):\n",
    "    x[i] = x0 + i*dx\n",
    "    y[i] = sin(x[i])\n",
    "plot(x, y)\n",
    "show()"
   ]
  },
  {
   "cell_type": "code",
   "execution_count": 21,
   "metadata": {},
   "outputs": [
    {
     "data": {
      "image/png": "[encoded data removed]",
      "text/plain": [
       "<Figure size 432x288 with 1 Axes>"
      ]
     },
     "metadata": {
      "needs_background": "light"
     },
     "output_type": "display_data"
    }
   ],
   "source": [
    "from pylab import *\n",
    "x0 = 0.0\n",
    "x1 = 10\n",
    "dx = 0.1\n",
    "n = int(ceil((x1-x0)/dx)+1)\n",
    "x = zeros((n,1), float)\n",
    "y = zeros((n,1), float)\n",
    "for i in range(n):\n",
    "    x[i] = x0 + i*dx\n",
    "    y[i] = sin(x[i])\n",
    "plot(x, y)\n",
    "show()"
   ]
  },
  {
   "cell_type": "markdown",
   "metadata": {},
   "source": [
    "### The While-loop"
   ]
  },
  {
   "cell_type": "code",
   "execution_count": 22,
   "metadata": {},
   "outputs": [
    {
     "name": "stdout",
     "output_type": "stream",
     "text": [
      "[ 0.          1.11111111  2.22222222  3.33333333  4.44444444  5.55555556\n",
      "  6.66666667  7.77777778  8.88888889 10.        ]\n"
     ]
    }
   ],
   "source": [
    "x = linspace(0, 10, 10)\n",
    "print(x)"
   ]
  },
  {
   "cell_type": "code",
   "execution_count": null,
   "metadata": {},
   "outputs": [],
   "source": []
  }
 ],
 "metadata": {
  "kernelspec": {
   "display_name": "Python 3",
   "language": "python",
   "name": "python3"
  },
  "language_info": {
   "codemirror_mode": {
    "name": "ipython",
    "version": 3
   },
   "file_extension": ".py",
   "mimetype": "text/x-python",
   "name": "python",
   "nbconvert_exporter": "python",
   "pygments_lexer": "ipython3",
   "version": "3.8.3"
  }
 },
 "nbformat": 4,
 "nbformat_minor": 4
}
